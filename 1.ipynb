{
 "cells": [
  {
   "cell_type": "code",
   "execution_count": null,
   "metadata": {},
   "outputs": [],
   "source": [
    "cd /teamspace/studios/this_studio/markify-without-minerU"
   ]
  },
  {
   "cell_type": "code",
   "execution_count": null,
   "metadata": {},
   "outputs": [],
   "source": [
    "cd /teamspace/studios/this_studio/markify-without-minerU\n",
    "streamlit run /teamspace/studios/this_studio/markify-without-minerU/client/streamlit_client.py\n"
   ]
  },
  {
   "cell_type": "code",
   "execution_count": null,
   "metadata": {},
   "outputs": [],
   "source": [
    "cd /teamspace/studios/this_studio/markify-without-minerU\n",
    "uvicorn main:app --host 0.0.0.0 --port 20926\n"
   ]
  }
 ],
 "metadata": {
  "language_info": {
   "name": "python"
  }
 },
 "nbformat": 4,
 "nbformat_minor": 2
}
